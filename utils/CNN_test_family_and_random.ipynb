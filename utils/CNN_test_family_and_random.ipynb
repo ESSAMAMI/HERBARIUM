{
 "cells": [
  {
   "cell_type": "code",
   "execution_count": 1,
   "metadata": {},
   "outputs": [],
   "source": [
    "import time\n",
    "import json\n",
    "import numpy as np # linear algebra\n",
    "import pandas as pd # data processing, CSV file I/O (e.g. pd.read_csv)\n",
    "import os\n",
    "from tensorflow.keras.models import Model\n",
    "from tensorflow.keras.layers import Dense, Dropout, Conv2D, MaxPool2D, Flatten, BatchNormalization, Input, concatenate\n",
    "from tensorflow.keras.optimizers import Adam\n",
    "from tensorflow.keras.utils import plot_model\n",
    "from sklearn.model_selection import train_test_split as tts\n",
    "import tensorflow as tf\n",
    "# imports for cpu use\n",
    "import random\n",
    "import sys\n",
    "from tensorflow.python.client import device_lib\n",
    "\n",
    "from tensorflow.keras.preprocessing.image import ImageDataGenerator"
   ]
  },
  {
   "cell_type": "code",
   "execution_count": 2,
   "metadata": {},
   "outputs": [],
   "source": [
    "DIR_TEST = 'D:/cours/quatrième année/Deep learning/Projet kaggle/nybg2020/test/'\n",
    "DIR_TRAIN = 'D:/cours/quatrième année/Deep learning/Projet kaggle/nybg2020/train/'\n",
    "META_DATA_TRAIN = DIR_TRAIN+'metadata.json'\n",
    "META_DATA_TEST = DIR_TEST+'metadata.json'"
   ]
  },
  {
   "cell_type": "code",
   "execution_count": 3,
   "metadata": {},
   "outputs": [
    {
     "name": "stdout",
     "output_type": "stream",
     "text": [
      "all devices\n",
      " [name: \"/device:CPU:0\"\n",
      "device_type: \"CPU\"\n",
      "memory_limit: 268435456\n",
      "locality {\n",
      "}\n",
      "incarnation: 10103619115100896589\n",
      ", name: \"/device:GPU:0\"\n",
      "device_type: \"GPU\"\n",
      "memory_limit: 3144653209\n",
      "locality {\n",
      "  bus_id: 1\n",
      "  links {\n",
      "  }\n",
      "}\n",
      "incarnation: 2008283492221974167\n",
      "physical_device_desc: \"device: 0, name: GeForce GTX 1050 Ti, pci bus id: 0000:01:00.0, compute capability: 6.1\"\n",
      "] \n",
      "\n",
      "GPU\n",
      "Utiliser son cpu en utilisant des with tf.device('/cpu:0'):\n"
     ]
    }
   ],
   "source": [
    "#CHECK HOW MANY GPU ON PC\n",
    "# Check if the server/ instance is having GPU/ CPU from python code\n",
    "import sys\n",
    "import tensorflow as tf\n",
    "from tensorflow.python.client import device_lib\n",
    "\n",
    "# device_lib.list_local_devices()     ## this command list all the processing device GPU and CPU\n",
    "\n",
    "print(\"all devices\\n\", device_lib.list_local_devices(), '\\n')\n",
    "device_name = [x.name for x in device_lib.list_local_devices() if x.device_type == 'GPU']\n",
    "if device_name[0] == \"/device:GPU:0\":\n",
    "    device_name = \"/gpu:0\"\n",
    "    print('GPU')\n",
    "else:\n",
    "    print('CPU')\n",
    "\n",
    "print(\"Utiliser son cpu en utilisant des with tf.device('/cpu:0'):\")\n"
   ]
  },
  {
   "cell_type": "code",
   "execution_count": 4,
   "metadata": {},
   "outputs": [
    {
     "data": {
      "text/plain": [
       "'\\nTRAIN_PATH = \\'D:/cours/quatrième année/Deep learning/Projet kaggle/nybg2020/train_separated/\\'\\ncnt = 0\\nfor category in os.listdir(TRAIN_PATH):\\n    if len(os.listdir(TRAIN_PATH+category)) < 10:\\n        cnt += 1\\n        open_dir = (os.listdir(TRAIN_PATH+category))\\n        print(category)\\n        for image in open_dir:\\n            try:\\n                img = read_img(TRAIN_PATH+str(category)+\\'/\\'+image)\\n                x = img_to_array(img)\\n                x = x.reshape((1,) + x.shape)\\n                i = 0\\n                for batch in image_gen.flow(x, batch_size=1, save_to_dir=TRAIN_PATH+str(category)+\\'/\\', save_prefix=\\'datagen\\', save_format=\"jpg\"):\\n                    i+=1\\n                    if i > 10:\\n                        break\\n            except Exception as e:\\n                print(\"image caused error => \" % image)\\n                break\\nprint(\"Nombre de categroies avec moins 10 images %s\" % (cnt))\\n'"
      ]
     },
     "execution_count": 4,
     "metadata": {},
     "output_type": "execute_result"
    }
   ],
   "source": [
    "'''\n",
    "TRAIN_PATH = 'D:/cours/quatrième année/Deep learning/Projet kaggle/nybg2020/train_separated/'\n",
    "cnt = 0\n",
    "for category in os.listdir(TRAIN_PATH):\n",
    "    if len(os.listdir(TRAIN_PATH+category)) < 10:\n",
    "        cnt += 1\n",
    "        open_dir = (os.listdir(TRAIN_PATH+category))\n",
    "        print(category)\n",
    "        for image in open_dir:\n",
    "            try:\n",
    "                img = read_img(TRAIN_PATH+str(category)+'/'+image)\n",
    "                x = img_to_array(img)\n",
    "                x = x.reshape((1,) + x.shape)\n",
    "                i = 0\n",
    "                for batch in image_gen.flow(x, batch_size=1, save_to_dir=TRAIN_PATH+str(category)+'/', save_prefix='datagen', save_format=\"jpg\"):\n",
    "                    i+=1\n",
    "                    if i > 10:\n",
    "                        break\n",
    "            except Exception as e:\n",
    "                print(\"image caused error => \" % image)\n",
    "                break\n",
    "print(\"Nombre de categroies avec moins 10 images %s\" % (cnt))\n",
    "'''"
   ]
  },
  {
   "cell_type": "code",
   "execution_count": 5,
   "metadata": {},
   "outputs": [],
   "source": [
    "start_time = time.time()"
   ]
  },
  {
   "cell_type": "code",
   "execution_count": 6,
   "metadata": {},
   "outputs": [
    {
     "name": "stdout",
     "output_type": "stream",
     "text": [
      "- annotations 1030747\n",
      "- categories 32094\n",
      "- images 1030747\n",
      "- info 6\n",
      "- licenses 1\n",
      "- regions 4\n",
      "================================\n",
      "- images 138292\n",
      "- info 6\n",
      "- licenses 1\n"
     ]
    }
   ],
   "source": [
    "with tf.device(\"/cpu:0\"):\n",
    "    with open(META_DATA_TRAIN, 'r') as json_file:\n",
    "        data_train = json.load(json_file)\n",
    "        for key in data_train:\n",
    "            print(\"-\",key, len(data_train[key]))\n",
    "    print(\"================================\")\n",
    "    with open(META_DATA_TEST, 'r') as json_file2:\n",
    "        data_test = json.load(json_file2)\n",
    "        for key in data_test:\n",
    "            print(\"-\",key, len(data_test[key]))"
   ]
  },
  {
   "cell_type": "markdown",
   "metadata": {},
   "source": [
    "# ============= TESTS THEORIE MINI APPRENTISSAGE ============== #"
   ]
  },
  {
   "cell_type": "markdown",
   "metadata": {},
   "source": [
    "### ================================== COLLECT TRAIN DATA ================================== ###"
   ]
  },
  {
   "cell_type": "code",
   "execution_count": 7,
   "metadata": {},
   "outputs": [
    {
     "data": {
      "text/html": [
       "<div>\n",
       "<style scoped>\n",
       "    .dataframe tbody tr th:only-of-type {\n",
       "        vertical-align: middle;\n",
       "    }\n",
       "\n",
       "    .dataframe tbody tr th {\n",
       "        vertical-align: top;\n",
       "    }\n",
       "\n",
       "    .dataframe thead th {\n",
       "        text-align: right;\n",
       "    }\n",
       "</style>\n",
       "<table border=\"1\" class=\"dataframe\">\n",
       "  <thead>\n",
       "    <tr style=\"text-align: right;\">\n",
       "      <th></th>\n",
       "      <th>file_name</th>\n",
       "      <th>height</th>\n",
       "      <th>id</th>\n",
       "      <th>license</th>\n",
       "      <th>width</th>\n",
       "    </tr>\n",
       "  </thead>\n",
       "  <tbody>\n",
       "    <tr>\n",
       "      <th>0</th>\n",
       "      <td>images/156/72/354106.jpg</td>\n",
       "      <td>1000</td>\n",
       "      <td>354106</td>\n",
       "      <td>1</td>\n",
       "      <td>661</td>\n",
       "    </tr>\n",
       "    <tr>\n",
       "      <th>1</th>\n",
       "      <td>images/115/24/818566.jpg</td>\n",
       "      <td>1000</td>\n",
       "      <td>818566</td>\n",
       "      <td>1</td>\n",
       "      <td>661</td>\n",
       "    </tr>\n",
       "    <tr>\n",
       "      <th>2</th>\n",
       "      <td>images/115/24/750704.jpg</td>\n",
       "      <td>1000</td>\n",
       "      <td>750704</td>\n",
       "      <td>1</td>\n",
       "      <td>661</td>\n",
       "    </tr>\n",
       "  </tbody>\n",
       "</table>\n",
       "</div>"
      ],
      "text/plain": [
       "                  file_name  height      id  license  width\n",
       "0  images/156/72/354106.jpg    1000  354106        1    661\n",
       "1  images/115/24/818566.jpg    1000  818566        1    661\n",
       "2  images/115/24/750704.jpg    1000  750704        1    661"
      ]
     },
     "metadata": {},
     "output_type": "display_data"
    }
   ],
   "source": [
    "with tf.device(\"/cpu:0\"):\n",
    "    df_images = pd.DataFrame(data_train['images'])\n",
    "    display(df_images.head(3))\n",
    "    df_categories = pd.DataFrame(data_train['categories'])\n",
    "    df_annotations = pd.DataFrame(data_train['annotations'])\n",
    "    assert len(df_annotations) == len(df_images)\n",
    "    df_images_annotations = pd.merge(df_images, df_annotations, left_on='id', right_on='image_id', how='right').drop('image_id', axis=1)\n",
    "    df_images_annotations = df_images_annotations.sort_values(['category_id'])"
   ]
  },
  {
   "cell_type": "code",
   "execution_count": 8,
   "metadata": {},
   "outputs": [],
   "source": [
    "with tf.device(\"/cpu:0\"):\n",
    "    df_families = df_categories.drop('genus', axis=1).drop('id', axis=1).drop('name', axis=1).drop_duplicates().reset_index().drop('index', axis=1)\n",
    "    df_families.head(3)"
   ]
  },
  {
   "cell_type": "code",
   "execution_count": 9,
   "metadata": {},
   "outputs": [],
   "source": [
    "with tf.device(\"/cpu:0\"):\n",
    "    df_images_infos = pd.merge(df_images_annotations, df_categories, left_on='category_id', right_on='id', how='right')\\\n",
    "                        .drop('height', axis=1).drop('id_x', axis=1).drop('license', axis=1).drop('width', axis=1)\\\n",
    "                        .drop('category_id', axis=1).drop('id_y', axis=1).drop('region_id', axis=1).drop('name', axis=1)\n",
    "\n",
    "    df_images_infos = df_images_infos.rename(columns={\"id\":\"category_id\"})\n",
    "\n",
    "    df_images_infos.sort_values(by='family', ascending=False)"
   ]
  },
  {
   "cell_type": "markdown",
   "metadata": {},
   "source": [
    "### ================================== COLLECT TEST DATA ================================== ###"
   ]
  },
  {
   "cell_type": "code",
   "execution_count": 10,
   "metadata": {},
   "outputs": [
    {
     "data": {
      "text/html": [
       "<div>\n",
       "<style scoped>\n",
       "    .dataframe tbody tr th:only-of-type {\n",
       "        vertical-align: middle;\n",
       "    }\n",
       "\n",
       "    .dataframe tbody tr th {\n",
       "        vertical-align: top;\n",
       "    }\n",
       "\n",
       "    .dataframe thead th {\n",
       "        text-align: right;\n",
       "    }\n",
       "</style>\n",
       "<table border=\"1\" class=\"dataframe\">\n",
       "  <thead>\n",
       "    <tr style=\"text-align: right;\">\n",
       "      <th></th>\n",
       "      <th>file_name</th>\n",
       "      <th>id</th>\n",
       "    </tr>\n",
       "  </thead>\n",
       "  <tbody>\n",
       "    <tr>\n",
       "      <th>0</th>\n",
       "      <td>images/104/104891.jpg</td>\n",
       "      <td>104891</td>\n",
       "    </tr>\n",
       "    <tr>\n",
       "      <th>1</th>\n",
       "      <td>images/018/18029.jpg</td>\n",
       "      <td>18029</td>\n",
       "    </tr>\n",
       "    <tr>\n",
       "      <th>2</th>\n",
       "      <td>images/035/35151.jpg</td>\n",
       "      <td>35151</td>\n",
       "    </tr>\n",
       "  </tbody>\n",
       "</table>\n",
       "</div>"
      ],
      "text/plain": [
       "               file_name      id\n",
       "0  images/104/104891.jpg  104891\n",
       "1   images/018/18029.jpg   18029\n",
       "2   images/035/35151.jpg   35151"
      ]
     },
     "metadata": {},
     "output_type": "display_data"
    }
   ],
   "source": [
    "with tf.device(\"/cpu:0\"):\n",
    "    df_images = pd.DataFrame(data_test['images']).drop('height', axis=1).drop('width', axis=1).drop('license', axis=1)\n",
    "    display(df_images.head(3))"
   ]
  },
  {
   "cell_type": "markdown",
   "metadata": {},
   "source": [
    "### ======================================= SAVE DATA ====================================== ###"
   ]
  },
  {
   "cell_type": "code",
   "execution_count": 11,
   "metadata": {},
   "outputs": [],
   "source": [
    "with tf.device(\"/cpu:0\"):\n",
    "    df_images_infos.to_csv('D:/cours/quatrième année/Deep learning/Projet kaggle/full_train_data.csv', index=False)\n",
    "    df_images.to_csv('D:/cours/quatrième année/Deep learning/Projet kaggle/full_test_data.csv', index=False)"
   ]
  },
  {
   "cell_type": "markdown",
   "metadata": {},
   "source": [
    "### ===================================== EXPLORE DATA ==================================== ###"
   ]
  },
  {
   "cell_type": "code",
   "execution_count": 12,
   "metadata": {
    "scrolled": true
   },
   "outputs": [
    {
     "data": {
      "text/html": [
       "<div>\n",
       "<style scoped>\n",
       "    .dataframe tbody tr th:only-of-type {\n",
       "        vertical-align: middle;\n",
       "    }\n",
       "\n",
       "    .dataframe tbody tr th {\n",
       "        vertical-align: top;\n",
       "    }\n",
       "\n",
       "    .dataframe thead th {\n",
       "        text-align: right;\n",
       "    }\n",
       "</style>\n",
       "<table border=\"1\" class=\"dataframe\">\n",
       "  <thead>\n",
       "    <tr style=\"text-align: right;\">\n",
       "      <th></th>\n",
       "      <th>category_id</th>\n",
       "    </tr>\n",
       "  </thead>\n",
       "  <tbody>\n",
       "    <tr>\n",
       "      <th>count</th>\n",
       "      <td>3680.000000</td>\n",
       "    </tr>\n",
       "    <tr>\n",
       "      <th>mean</th>\n",
       "      <td>280.094565</td>\n",
       "    </tr>\n",
       "    <tr>\n",
       "      <th>std</th>\n",
       "      <td>763.668945</td>\n",
       "    </tr>\n",
       "    <tr>\n",
       "      <th>min</th>\n",
       "      <td>2.000000</td>\n",
       "    </tr>\n",
       "    <tr>\n",
       "      <th>25%</th>\n",
       "      <td>12.000000</td>\n",
       "    </tr>\n",
       "    <tr>\n",
       "      <th>50%</th>\n",
       "      <td>54.000000</td>\n",
       "    </tr>\n",
       "    <tr>\n",
       "      <th>75%</th>\n",
       "      <td>198.000000</td>\n",
       "    </tr>\n",
       "    <tr>\n",
       "      <th>max</th>\n",
       "      <td>14490.000000</td>\n",
       "    </tr>\n",
       "  </tbody>\n",
       "</table>\n",
       "</div>"
      ],
      "text/plain": [
       "        category_id\n",
       "count   3680.000000\n",
       "mean     280.094565\n",
       "std      763.668945\n",
       "min        2.000000\n",
       "25%       12.000000\n",
       "50%       54.000000\n",
       "75%      198.000000\n",
       "max    14490.000000"
      ]
     },
     "metadata": {},
     "output_type": "display_data"
    }
   ],
   "source": [
    "with tf.device(\"/cpu:0\"):\n",
    "    family_explo = df_images_infos[['family', 'genus', 'category_id']].groupby(['family', 'genus']).count()\n",
    "    display(family_explo.describe())"
   ]
  },
  {
   "cell_type": "markdown",
   "metadata": {},
   "source": [
    "### ==================================== MODEL CREATION =================================== ###"
   ]
  },
  {
   "cell_type": "code",
   "execution_count": 13,
   "metadata": {},
   "outputs": [],
   "source": [
    "with tf.device(\"/cpu:0\"):\n",
    "    in_out_size = (64*64) + 3\n",
    "    img_shape = 64\n",
    "    name_of_model = \"cnn_1_softmax_family_02\"\n",
    "    def xavier(shape, dtype=None):\n",
    "        return np.random.rand(*shape)*np.sqrt(1/in_out_size)"
   ]
  },
  {
   "cell_type": "code",
   "execution_count": 14,
   "metadata": {},
   "outputs": [
    {
     "name": "stdout",
     "output_type": "stream",
     "text": [
      "Model: \"model\"\n",
      "_________________________________________________________________\n",
      "Layer (type)                 Output Shape              Param #   \n",
      "=================================================================\n",
      "input_1 (InputLayer)         [(None, 64, 64, 3)]       0         \n",
      "_________________________________________________________________\n",
      "conv2d (Conv2D)              (None, 64, 64, 32)        896       \n",
      "_________________________________________________________________\n",
      "batch_normalization (BatchNo (None, 64, 64, 32)        128       \n",
      "_________________________________________________________________\n",
      "conv2d_1 (Conv2D)            (None, 64, 64, 32)        9248      \n",
      "_________________________________________________________________\n",
      "batch_normalization_1 (Batch (None, 64, 64, 32)        128       \n",
      "_________________________________________________________________\n",
      "max_pooling2d (MaxPooling2D) (None, 32, 32, 32)        0         \n",
      "_________________________________________________________________\n",
      "dropout (Dropout)            (None, 32, 32, 32)        0         \n",
      "_________________________________________________________________\n",
      "conv2d_2 (Conv2D)            (None, 32, 32, 64)        18496     \n",
      "_________________________________________________________________\n",
      "batch_normalization_2 (Batch (None, 32, 32, 64)        256       \n",
      "_________________________________________________________________\n",
      "conv2d_3 (Conv2D)            (None, 32, 32, 64)        36928     \n",
      "_________________________________________________________________\n",
      "batch_normalization_3 (Batch (None, 32, 32, 64)        256       \n",
      "_________________________________________________________________\n",
      "max_pooling2d_1 (MaxPooling2 (None, 16, 16, 64)        0         \n",
      "_________________________________________________________________\n",
      "dropout_1 (Dropout)          (None, 16, 16, 64)        0         \n",
      "_________________________________________________________________\n",
      "conv2d_4 (Conv2D)            (None, 16, 16, 128)       73856     \n",
      "_________________________________________________________________\n",
      "batch_normalization_4 (Batch (None, 16, 16, 128)       512       \n",
      "_________________________________________________________________\n",
      "conv2d_5 (Conv2D)            (None, 16, 16, 128)       147584    \n",
      "_________________________________________________________________\n",
      "batch_normalization_5 (Batch (None, 16, 16, 128)       512       \n",
      "_________________________________________________________________\n",
      "max_pooling2d_2 (MaxPooling2 (None, 8, 8, 128)         0         \n",
      "_________________________________________________________________\n",
      "dropout_2 (Dropout)          (None, 8, 8, 128)         0         \n",
      "_________________________________________________________________\n",
      "flatten (Flatten)            (None, 8192)              0         \n",
      "_________________________________________________________________\n",
      "dense (Dense)                (None, 128)               1048704   \n",
      "_________________________________________________________________\n",
      "batch_normalization_6 (Batch (None, 128)               512       \n",
      "_________________________________________________________________\n",
      "dropout_3 (Dropout)          (None, 128)               0         \n",
      "_________________________________________________________________\n",
      "family (Dense)               (None, 310)               39990     \n",
      "=================================================================\n",
      "Total params: 1,378,006\n",
      "Trainable params: 1,376,854\n",
      "Non-trainable params: 1,152\n",
      "_________________________________________________________________\n"
     ]
    }
   ],
   "source": [
    "with tf.device(\"/cpu:0\"):\n",
    "    def fg_model(shape, lr=0.001):\n",
    "        '''Family-Genus model receives an image and outputs two integers indicating both the family and genus index.'''\n",
    "        i = Input(shape)\n",
    "        \n",
    "        #MLP\n",
    "        #x = Flatten()(i)\n",
    "            \n",
    "        #x = Dense(1024, activation='relu', name='dense_1', kernel_initializer=xavier)(x)\n",
    "        #x = Dense(512, activation='relu', name='dense_2', kernel_initializer=xavier)(x)\n",
    "        #x = Dense(256, activation='relu', name='dense_3', kernel_initializer=xavier)(x)\n",
    "        \n",
    "        '''\n",
    "        #CNN NEAR KAGGLE \n",
    "        x = Conv2D(3, (3, 3), activation='relu', padding='same', kernel_initializer=xavier)(i)\n",
    "        x = Conv2D(3, (3, 3), activation='relu', padding='same', kernel_initializer=xavier)(x)\n",
    "        x = MaxPool2D(pool_size=(2, 2))(x)\n",
    "        #x = BatchNormalization()(x)\n",
    "        #x = Dropout(0.5)(x)\n",
    "        x = Conv2D(16, (3, 3), activation='relu', padding='same', kernel_initializer=xavier)(x)\n",
    "        x = Conv2D(16, (3, 3), activation='relu', padding='same', kernel_initializer=xavier)(x)\n",
    "        x = MaxPool2D(pool_size=(2, 2))(x)\n",
    "        #x = BatchNormalization()(x)\n",
    "        #x = Dropout(0.5)(x)\n",
    "        x = Flatten()(x)\n",
    "        '''\n",
    "        \n",
    "        #CNN POWERFULL\n",
    "        x = Conv2D(32, (3, 3), activation='relu', kernel_initializer=xavier, padding='same')(i)\n",
    "        x = BatchNormalization()(x)\n",
    "        x = Conv2D(32, (3, 3), activation='relu', kernel_initializer=xavier, padding='same')(x)\n",
    "        x = BatchNormalization()(x)\n",
    "        x = MaxPool2D((2, 2))(x)\n",
    "        x = Dropout(0.25)(x)\n",
    "        x = Conv2D(64, (3, 3), activation='relu', kernel_initializer=xavier, padding='same')(x)\n",
    "        x = BatchNormalization()(x)\n",
    "        x = Conv2D(64, (3, 3), activation='relu', kernel_initializer=xavier, padding='same')(x)\n",
    "        x = BatchNormalization()(x)\n",
    "        x = MaxPool2D((2, 2))(x)\n",
    "        x = Dropout(0.25)(x)\n",
    "        x = Conv2D(128, (3, 3), activation='relu', kernel_initializer=xavier, padding='same')(x)\n",
    "        x = BatchNormalization()(x)\n",
    "        x = Conv2D(128, (3, 3), activation='relu', kernel_initializer=xavier, padding='same')(x)\n",
    "        x = BatchNormalization()(x)\n",
    "        x = MaxPool2D((2, 2))(x)\n",
    "        x = Dropout(0.25)(x)\n",
    "        x = Flatten()(x)\n",
    "        x = Dense(128, activation='relu', kernel_initializer=xavier)(x)\n",
    "        x = BatchNormalization()(x)\n",
    "        x = Dropout(0.25)(x)\n",
    "            \n",
    "        \n",
    "        o1 = Dense(310, activation='softmax', name='family', kernel_initializer=xavier)(x)\n",
    "\n",
    "        #o2 = concatenate([o1, x])\n",
    "        #o2 = Dense(3678, activation='softmax', name='genus', kernel_initializer=xavier)(o2)\n",
    "\n",
    "        #o3 = concatenate([o1, o2, x])\n",
    "        #o3 = Dense(32094, activation='softmax', name='category_id', kernel_initializer=xavier)(x)\n",
    "\n",
    "        x = Model(inputs=i, outputs=o1)\n",
    "\n",
    "        opt = Adam(lr=lr, amsgrad=True)\n",
    "        x.compile(optimizer=opt, loss=['sparse_categorical_crossentropy'],\n",
    "                     metrics=['accuracy'])\n",
    "        return x\n",
    "\n",
    "    model = fg_model((img_shape, img_shape, 3))\n",
    "    model.summary()\n",
    "    #plot_model(model, to_file='full_model_plot.png', show_shapes=True, show_layer_names=True)"
   ]
  },
  {
   "cell_type": "code",
   "execution_count": 15,
   "metadata": {
    "scrolled": true
   },
   "outputs": [
    {
     "data": {
      "image/png": "[encoded data removed]",
      "text/plain": [
       "<IPython.core.display.Image object>"
      ]
     },
     "execution_count": 15,
     "metadata": {},
     "output_type": "execute_result"
    }
   ],
   "source": [
    "plot_model(model, to_file=name_of_model + '_model_plot.png', show_shapes=True, show_layer_names=True)"
   ]
  },
  {
   "cell_type": "markdown",
   "metadata": {},
   "source": [
    "### ==================================== DATA GENERATOR =================================== ###"
   ]
  },
  {
   "cell_type": "code",
   "execution_count": 16,
   "metadata": {},
   "outputs": [],
   "source": [
    "with tf.device(\"/cpu:0\"):\n",
    "    train_datagen = ImageDataGenerator(featurewise_center=False,\n",
    "                                         featurewise_std_normalization=False,\n",
    "                                         rotation_range=180,\n",
    "                                         width_shift_range=0.1,\n",
    "                                         height_shift_range=0.1,\n",
    "                                         zoom_range=0.2)"
   ]
  },
  {
   "cell_type": "code",
   "execution_count": 17,
   "metadata": {
    "scrolled": true
   },
   "outputs": [
    {
     "data": {
      "text/html": [
       "<div>\n",
       "<style scoped>\n",
       "    .dataframe tbody tr th:only-of-type {\n",
       "        vertical-align: middle;\n",
       "    }\n",
       "\n",
       "    .dataframe tbody tr th {\n",
       "        vertical-align: top;\n",
       "    }\n",
       "\n",
       "    .dataframe thead th {\n",
       "        text-align: right;\n",
       "    }\n",
       "</style>\n",
       "<table border=\"1\" class=\"dataframe\">\n",
       "  <thead>\n",
       "    <tr style=\"text-align: right;\">\n",
       "      <th></th>\n",
       "      <th>file_name</th>\n",
       "      <th>family</th>\n",
       "      <th>genus</th>\n",
       "      <th>category_id</th>\n",
       "    </tr>\n",
       "  </thead>\n",
       "  <tbody>\n",
       "    <tr>\n",
       "      <th>0</th>\n",
       "      <td>images/000/00/626762.jpg</td>\n",
       "      <td>0</td>\n",
       "      <td>0</td>\n",
       "      <td>0</td>\n",
       "    </tr>\n",
       "    <tr>\n",
       "      <th>1</th>\n",
       "      <td>images/000/00/72077.jpg</td>\n",
       "      <td>0</td>\n",
       "      <td>0</td>\n",
       "      <td>0</td>\n",
       "    </tr>\n",
       "    <tr>\n",
       "      <th>2</th>\n",
       "      <td>images/000/00/818271.jpg</td>\n",
       "      <td>0</td>\n",
       "      <td>0</td>\n",
       "      <td>0</td>\n",
       "    </tr>\n",
       "    <tr>\n",
       "      <th>3</th>\n",
       "      <td>images/000/00/495523.jpg</td>\n",
       "      <td>0</td>\n",
       "      <td>0</td>\n",
       "      <td>0</td>\n",
       "    </tr>\n",
       "    <tr>\n",
       "      <th>4</th>\n",
       "      <td>images/000/00/437000.jpg</td>\n",
       "      <td>0</td>\n",
       "      <td>0</td>\n",
       "      <td>0</td>\n",
       "    </tr>\n",
       "    <tr>\n",
       "      <th>...</th>\n",
       "      <td>...</td>\n",
       "      <td>...</td>\n",
       "      <td>...</td>\n",
       "      <td>...</td>\n",
       "    </tr>\n",
       "    <tr>\n",
       "      <th>1030743</th>\n",
       "      <td>images/320/93/946506.jpg</td>\n",
       "      <td>41</td>\n",
       "      <td>3677</td>\n",
       "      <td>32093</td>\n",
       "    </tr>\n",
       "    <tr>\n",
       "      <th>1030744</th>\n",
       "      <td>images/320/93/1010199.jpg</td>\n",
       "      <td>41</td>\n",
       "      <td>3677</td>\n",
       "      <td>32093</td>\n",
       "    </tr>\n",
       "    <tr>\n",
       "      <th>1030745</th>\n",
       "      <td>images/320/93/35450.jpg</td>\n",
       "      <td>41</td>\n",
       "      <td>3677</td>\n",
       "      <td>32093</td>\n",
       "    </tr>\n",
       "    <tr>\n",
       "      <th>1030746</th>\n",
       "      <td>images/320/93/68259.jpg</td>\n",
       "      <td>41</td>\n",
       "      <td>3677</td>\n",
       "      <td>32093</td>\n",
       "    </tr>\n",
       "    <tr>\n",
       "      <th>1030747</th>\n",
       "      <td>NaN</td>\n",
       "      <td>239</td>\n",
       "      <td>2663</td>\n",
       "      <td>23079</td>\n",
       "    </tr>\n",
       "  </tbody>\n",
       "</table>\n",
       "<p>1030748 rows × 4 columns</p>\n",
       "</div>"
      ],
      "text/plain": [
       "                         file_name  family  genus  category_id\n",
       "0         images/000/00/626762.jpg       0      0            0\n",
       "1          images/000/00/72077.jpg       0      0            0\n",
       "2         images/000/00/818271.jpg       0      0            0\n",
       "3         images/000/00/495523.jpg       0      0            0\n",
       "4         images/000/00/437000.jpg       0      0            0\n",
       "...                            ...     ...    ...          ...\n",
       "1030743   images/320/93/946506.jpg      41   3677        32093\n",
       "1030744  images/320/93/1010199.jpg      41   3677        32093\n",
       "1030745    images/320/93/35450.jpg      41   3677        32093\n",
       "1030746    images/320/93/68259.jpg      41   3677        32093\n",
       "1030747                        NaN     239   2663        23079\n",
       "\n",
       "[1030748 rows x 4 columns]"
      ]
     },
     "metadata": {},
     "output_type": "display_data"
    },
    {
     "name": "stdout",
     "output_type": "stream",
     "text": [
      "KILL THE NAN VALUE IN M TO PREVENT BUGS\n",
      "<class 'pandas.core.frame.DataFrame'>\n"
     ]
    }
   ],
   "source": [
    "with tf.device(\"/cpu:0\"):\n",
    "    m = df_images_infos[['file_name', 'family', 'genus', 'category_id']]\n",
    "    fam = m.family.unique().tolist()\n",
    "    m.family = m.family.map(lambda x: fam.index(x))\n",
    "    gen = m.genus.unique().tolist()\n",
    "    m.genus = m.genus.map(lambda x: gen.index(x))\n",
    "    display(m)\n",
    "    print(\"KILL THE NAN VALUE IN M TO PREVENT BUGS\")\n",
    "    print(type(m))\n",
    "    na = m.file_name.isna()\n",
    "    keep = [x for x in range(m.shape[0]) if not na[x]]\n",
    "    m = m.iloc[keep]"
   ]
  },
  {
   "cell_type": "code",
   "execution_count": 18,
   "metadata": {},
   "outputs": [
    {
     "name": "stdout",
     "output_type": "stream",
     "text": [
      "test\n",
      " [31940, 31941, 31942, 31943, 31944, 31945, 31946, 31947]\n"
     ]
    }
   ],
   "source": [
    "# get list of category for each family\n",
    "family_to_category = []\n",
    "uniq_fam = m[\"family\"].unique()\n",
    "\n",
    "for fam in uniq_fam:\n",
    "    m_fam = m[m[\"family\"] == fam]\n",
    "    m_fam = m_fam[\"category_id\"].unique()\n",
    "    #print(m_fam)\n",
    "    #print(m_fam.tolist())\n",
    "    family_to_category.append(m_fam.tolist())\n",
    "    \n",
    "    #print(m_fam)\n",
    "\n",
    "print(\"test\\n\",family_to_category[309])"
   ]
  },
  {
   "cell_type": "code",
   "execution_count": 19,
   "metadata": {},
   "outputs": [
    {
     "data": {
      "text/plain": [
       "'\\ntrain = train[:400000]\\nverif = verif[:100000]\\nverif.head(5)\\nstore_type = verif.dtypes\\nprint(\"before ver \", store_type)\\nverif = verif.astype(str)\\nprint(\"after ver \", verif.dtypes)\\n\\nstore_type_2 = train.dtypes\\nprint(\"before train \", store_type_2)\\ntrain = train.astype(str)\\nprint(\"after train \", train.dtypes)\\n\\nprint(\"train x_col type = \", type(train[\\'file_name\\'].values[0]))\\nprint(\"test x_col type = \", type(verif[\\'file_name\\'].values[0]))\\n'"
      ]
     },
     "execution_count": 19,
     "metadata": {},
     "output_type": "execute_result"
    }
   ],
   "source": [
    "'''\n",
    "train = train[:400000]\n",
    "verif = verif[:100000]\n",
    "verif.head(5)\n",
    "store_type = verif.dtypes\n",
    "print(\"before ver \", store_type)\n",
    "verif = verif.astype(str)\n",
    "print(\"after ver \", verif.dtypes)\n",
    "\n",
    "store_type_2 = train.dtypes\n",
    "print(\"before train \", store_type_2)\n",
    "train = train.astype(str)\n",
    "print(\"after train \", train.dtypes)\n",
    "\n",
    "print(\"train x_col type = \", type(train['file_name'].values[0]))\n",
    "print(\"test x_col type = \", type(verif['file_name'].values[0]))\n",
    "'''"
   ]
  },
  {
   "cell_type": "markdown",
   "metadata": {},
   "source": [
    "### ========================================= TRAIN ======================================== ###"
   ]
  },
  {
   "cell_type": "code",
   "execution_count": 20,
   "metadata": {},
   "outputs": [],
   "source": [
    "#hyperparams\n",
    "with tf.device(\"/cpu:0\"):\n",
    "    train, verif = tts(m, test_size=0.2, shuffle=True)#,random_state=17)\n",
    "    train = train[:16000]\n",
    "    verif = verif[:4000]\n",
    "    shape = (img_shape, img_shape, 3)\n",
    "    epochs = 50\n",
    "    batch_size = 640\n",
    "    old_model = 0"
   ]
  },
  {
   "cell_type": "code",
   "execution_count": null,
   "metadata": {},
   "outputs": [],
   "source": []
  },
  {
   "cell_type": "code",
   "execution_count": 21,
   "metadata": {
    "scrolled": true
   },
   "outputs": [
    {
     "name": "stdout",
     "output_type": "stream",
     "text": [
      "TYPE <class 'pandas.core.series.Series'>\n",
      "after train \n",
      " file_name      object\n",
      "family          int64\n",
      "genus           int64\n",
      "category_id     int64\n",
      "dtype: object\n",
      "\n",
      "file name =  <class 'pandas.core.series.Series'>\n",
      "Nombre de catégories entrainées dans train 259\n",
      "Nombre de catégories entrainées dans verif 213\n",
      "Found 16000 validated image filenames.\n",
      "Found 4000 validated image filenames.\n",
      "Epoch 1/50\n",
      "25/25 [==============================] - 627s 25s/step - loss: 5.3266 - accuracy: 0.0718 - val_loss: 15.1443 - val_accuracy: 0.0604\n",
      "Epoch 2/50\n",
      "25/25 [==============================] - 572s 23s/step - loss: 4.4592 - accuracy: 0.1112 - val_loss: 15.5926 - val_accuracy: 0.0310\n",
      "Epoch 3/50\n",
      "25/25 [==============================] - 564s 23s/step - loss: 4.2200 - accuracy: 0.1181 - val_loss: 16.1139 - val_accuracy: 2.6042e-04\n",
      "Epoch 4/50\n",
      "25/25 [==============================] - 498s 20s/step - loss: 4.1714 - accuracy: 0.1243 - val_loss: 16.1166 - val_accuracy: 0.0000e+00\n",
      "Epoch 5/50\n",
      "25/25 [==============================] - 435s 17s/step - loss: 4.1197 - accuracy: 0.1257 - val_loss: 16.1181 - val_accuracy: 0.0000e+00\n",
      "Epoch 6/50\n",
      "25/25 [==============================] - 434s 17s/step - loss: 4.1016 - accuracy: 0.1252 - val_loss: 16.1038 - val_accuracy: 2.6042e-04\n",
      "Epoch 7/50\n",
      "25/25 [==============================] - 433s 17s/step - loss: 4.0649 - accuracy: 0.1319 - val_loss: 15.6472 - val_accuracy: 0.0104\n",
      "Epoch 8/50\n",
      "25/25 [==============================] - 430s 17s/step - loss: 4.0337 - accuracy: 0.1364 - val_loss: 15.5144 - val_accuracy: 0.0224\n",
      "Epoch 9/50\n",
      "25/25 [==============================] - 430s 17s/step - loss: 3.9881 - accuracy: 0.1417 - val_loss: 15.2295 - val_accuracy: 0.0013\n",
      "Epoch 10/50\n",
      "25/25 [==============================] - 429s 17s/step - loss: 3.9549 - accuracy: 0.1390 - val_loss: 13.0172 - val_accuracy: 0.0443\n",
      "Epoch 11/50\n",
      "25/25 [==============================] - 431s 17s/step - loss: 3.9139 - accuracy: 0.1409 - val_loss: 8.4977 - val_accuracy: 0.0448\n",
      "Epoch 12/50\n",
      "25/25 [==============================] - 429s 17s/step - loss: 3.8697 - accuracy: 0.1511 - val_loss: 5.6169 - val_accuracy: 0.0568\n",
      "Epoch 13/50\n",
      "25/25 [==============================] - 431s 17s/step - loss: 3.8326 - accuracy: 0.1602 - val_loss: 4.9654 - val_accuracy: 0.0849\n",
      "Epoch 14/50\n",
      "25/25 [==============================] - 433s 17s/step - loss: 3.7877 - accuracy: 0.1657 - val_loss: 7.9446 - val_accuracy: 0.0031\n",
      "Epoch 15/50\n",
      "25/25 [==============================] - 431s 17s/step - loss: 3.7620 - accuracy: 0.1684 - val_loss: 7.8616 - val_accuracy: 0.0029\n",
      "Epoch 16/50\n",
      "25/25 [==============================] - 439s 18s/step - loss: 3.7492 - accuracy: 0.1689 - val_loss: 6.5606 - val_accuracy: 0.0523\n",
      "Epoch 17/50\n",
      "25/25 [==============================] - 433s 17s/step - loss: 3.7082 - accuracy: 0.1724 - val_loss: 6.2825 - val_accuracy: 0.0779\n",
      "Epoch 18/50\n",
      "25/25 [==============================] - 434s 17s/step - loss: 3.6776 - accuracy: 0.1774 - val_loss: 9.0042 - val_accuracy: 0.0214\n",
      "Epoch 19/50\n",
      "25/25 [==============================] - 432s 17s/step - loss: 3.6495 - accuracy: 0.1774 - val_loss: 12.8381 - val_accuracy: 0.0089\n",
      "Epoch 20/50\n",
      "25/25 [==============================] - 431s 17s/step - loss: 3.6161 - accuracy: 0.1876 - val_loss: 9.2146 - val_accuracy: 0.0073\n",
      "Epoch 21/50\n",
      "25/25 [==============================] - 428s 17s/step - loss: 3.5785 - accuracy: 0.1885 - val_loss: 5.7488 - val_accuracy: 0.0828\n",
      "Epoch 22/50\n",
      "25/25 [==============================] - 430s 17s/step - loss: 3.5433 - accuracy: 0.1956 - val_loss: 8.9696 - val_accuracy: 0.0081\n",
      "Epoch 23/50\n",
      "25/25 [==============================] - 428s 17s/step - loss: 3.5335 - accuracy: 0.1967 - val_loss: 5.9797 - val_accuracy: 0.1018\n",
      "Epoch 24/50\n",
      "25/25 [==============================] - 429s 17s/step - loss: 3.4876 - accuracy: 0.1997 - val_loss: 8.6813 - val_accuracy: 0.0732\n",
      "Epoch 25/50\n",
      "25/25 [==============================] - 428s 17s/step - loss: 3.4554 - accuracy: 0.2053 - val_loss: 8.0353 - val_accuracy: 0.0682\n",
      "Epoch 26/50\n",
      "25/25 [==============================] - 429s 17s/step - loss: 3.4089 - accuracy: 0.2112 - val_loss: 5.8189 - val_accuracy: 0.0935\n",
      "Epoch 27/50\n",
      "25/25 [==============================] - 426s 17s/step - loss: 3.3861 - accuracy: 0.2131 - val_loss: 7.9020 - val_accuracy: 0.0174\n",
      "Epoch 28/50\n",
      "25/25 [==============================] - 429s 17s/step - loss: 3.3533 - accuracy: 0.2155 - val_loss: 8.8322 - val_accuracy: 0.0130\n",
      "Epoch 29/50\n",
      "25/25 [==============================] - 426s 17s/step - loss: 3.3246 - accuracy: 0.2252 - val_loss: 4.4596 - val_accuracy: 0.1219\n",
      "Epoch 30/50\n",
      "25/25 [==============================] - 433s 17s/step - loss: 3.3040 - accuracy: 0.2203 - val_loss: 5.3807 - val_accuracy: 0.0471\n",
      "Epoch 31/50\n",
      "25/25 [==============================] - 428s 17s/step - loss: 3.2684 - accuracy: 0.2266 - val_loss: 5.9363 - val_accuracy: 0.0253\n",
      "Epoch 32/50\n",
      "25/25 [==============================] - 431s 17s/step - loss: 3.2347 - accuracy: 0.2306 - val_loss: 6.3294 - val_accuracy: 0.0362\n",
      "Epoch 33/50\n",
      "25/25 [==============================] - 427s 17s/step - loss: 3.2262 - accuracy: 0.2354 - val_loss: 5.8818 - val_accuracy: 0.0664\n",
      "Epoch 34/50\n",
      "25/25 [==============================] - 432s 17s/step - loss: 3.1998 - accuracy: 0.2390 - val_loss: 6.1516 - val_accuracy: 0.0227\n",
      "Epoch 35/50\n",
      "25/25 [==============================] - 427s 17s/step - loss: 3.1650 - accuracy: 0.2441 - val_loss: 10.6215 - val_accuracy: 0.0482\n",
      "Epoch 36/50\n",
      "25/25 [==============================] - 429s 17s/step - loss: 3.1527 - accuracy: 0.2473 - val_loss: 6.2909 - val_accuracy: 0.0531\n",
      "Epoch 37/50\n",
      "25/25 [==============================] - 428s 17s/step - loss: 3.1198 - accuracy: 0.2499 - val_loss: 14.2190 - val_accuracy: 0.0138\n",
      "Epoch 38/50\n",
      "25/25 [==============================] - 428s 17s/step - loss: 3.1122 - accuracy: 0.2456 - val_loss: 10.8973 - val_accuracy: 0.0357\n",
      "Epoch 39/50\n",
      "25/25 [==============================] - 429s 17s/step - loss: 3.0872 - accuracy: 0.2529 - val_loss: 6.4683 - val_accuracy: 0.1333\n",
      "Epoch 40/50\n",
      "25/25 [==============================] - 428s 17s/step - loss: 3.0521 - accuracy: 0.2559 - val_loss: 6.6294 - val_accuracy: 0.1182\n",
      "Epoch 41/50\n",
      "25/25 [==============================] - 429s 17s/step - loss: 3.0306 - accuracy: 0.2592 - val_loss: 4.5239 - val_accuracy: 0.0909\n",
      "Epoch 42/50\n",
      "25/25 [==============================] - 427s 17s/step - loss: 3.0213 - accuracy: 0.2618 - val_loss: 5.2224 - val_accuracy: 0.1094\n",
      "Epoch 43/50\n",
      "25/25 [==============================] - 430s 17s/step - loss: 3.0143 - accuracy: 0.2603 - val_loss: 6.8726 - val_accuracy: 0.1245\n",
      "Epoch 44/50\n",
      "25/25 [==============================] - 431s 17s/step - loss: 2.9891 - accuracy: 0.2678 - val_loss: 7.5182 - val_accuracy: 0.1385\n",
      "Epoch 45/50\n",
      "25/25 [==============================] - 427s 17s/step - loss: 2.9719 - accuracy: 0.2709 - val_loss: 3.9958 - val_accuracy: 0.1870\n",
      "Epoch 46/50\n",
      "25/25 [==============================] - 431s 17s/step - loss: 2.9399 - accuracy: 0.2766 - val_loss: 6.0732 - val_accuracy: 0.1292\n",
      "Epoch 47/50\n",
      "25/25 [==============================] - 429s 17s/step - loss: 2.9202 - accuracy: 0.2747 - val_loss: 5.6910 - val_accuracy: 0.1182\n",
      "Epoch 48/50\n",
      "25/25 [==============================] - 431s 17s/step - loss: 2.9153 - accuracy: 0.2801 - val_loss: 12.5927 - val_accuracy: 0.0185\n",
      "Epoch 49/50\n",
      "25/25 [==============================] - 430s 17s/step - loss: 2.8793 - accuracy: 0.2864 - val_loss: 5.2858 - val_accuracy: 0.1490\n",
      "Epoch 50/50\n",
      "25/25 [==============================] - 431s 17s/step - loss: 2.8747 - accuracy: 0.2878 - val_loss: 4.4063 - val_accuracy: 0.1385\n"
     ]
    }
   ],
   "source": [
    "with tf.device(\"/cpu:0\"):\n",
    "#     train, verif = tts(m, test_size=0.2, shuffle=True)#,random_state=17)\n",
    "#     train = train[:16000]\n",
    "#     verif = verif[:4000]\n",
    "#     shape = (img_shape, img_shape, 3)\n",
    "#     epochs = 3\n",
    "#     batch_size = 640\n",
    "\n",
    "    print(\"TYPE\",type(train['category_id']))\n",
    "\n",
    "    # cast in str to try avoiding bug\n",
    "    #train['category_id'] = train['category_id'].astype(str)\n",
    "    #verif['category_id'] = verif['category_id'].astype(str)\n",
    "\n",
    "    print(\"after train \\n\", train.dtypes)\n",
    "    print(\"\\nfile name = \", type(train['file_name']))\n",
    "\n",
    "    model = fg_model(shape, 0.007)\n",
    "    \n",
    "    # If you want to train further an old model\n",
    "    if old_model != 0:\n",
    "        model = tf.keras.models.load_model(name_of_model+'_fg_model.h5', custom_objects={\"xavier\":xavier})\n",
    "        name_of_model = name_of_model + \"_2eme_iter\"\n",
    "\n",
    "    #Disable the last two output layers for training the Family\n",
    "    for layers in model.layers:\n",
    "        if layers.name == 'genus' or layers.name=='category_id':\n",
    "            layers.trainable = False        \n",
    "\n",
    "\n",
    "    # number of distinct families in train and test\n",
    "    print(\"Nombre de catégories entrainées dans train\",train['family'].nunique())\n",
    "    print(\"Nombre de catégories entrainées dans verif\",verif['family'].nunique())\n",
    "\n",
    "    #Make the family layer Trainable\n",
    "    for layers in model.layers:\n",
    "        if layers.name == 'family':\n",
    "            layers.trainable = True\n",
    "\n",
    "    model.fit_generator(train_datagen.flow_from_dataframe(dataframe=train,\n",
    "                                                          directory=DIR_TRAIN,\n",
    "                                                          x_col=\"file_name\",\n",
    "                                                          y_col=\"family\",\n",
    "                                                          target_size=(img_shape, img_shape),\n",
    "                                                          batch_size=batch_size,\n",
    "                                                          class_mode='raw'),\n",
    "                        validation_data=train_datagen.flow_from_dataframe(\n",
    "                            dataframe=verif,\n",
    "                            directory=DIR_TRAIN,\n",
    "                            x_col=\"file_name\",\n",
    "                            y_col=\"family\",\n",
    "                            target_size=(img_shape, img_shape),\n",
    "                            batch_size=batch_size,\n",
    "                            class_mode='raw'),\n",
    "                        epochs=epochs,\n",
    "                        steps_per_epoch=len(train)//batch_size,\n",
    "                        validation_steps=len(verif)//batch_size,\n",
    "                        verbose=1,\n",
    "                        workers=8,\n",
    "                        use_multiprocessing=False)\n",
    "\n",
    "\n",
    "    # #Reshuffle the inputs\n",
    "    # train, verif = tts(m, test_size=0.2, shuffle=True, random_state=17)\n",
    "    # train = train[:400000]\n",
    "    # verif = verif[:100000]\n",
    "\n",
    "    # #Make the Genus layer Trainable\n",
    "    # for layers in model.layers:\n",
    "    #     if layers.name == 'genus':\n",
    "    #         layers.trainable = True\n",
    "\n",
    "    # #Train Family and Genus for 2 epochs\n",
    "    # model.fit_generator(train_datagen.flow_from_dataframe(dataframe=train,\n",
    "    #                                                       directory=DIR_TRAIN,\n",
    "    #                                                       x_col=\"file_name\",\n",
    "    #                                                       y_col=[\"family\", \"genus\", \"category_id\"],\n",
    "    #                                                       target_size=(img_shape, img_shape),\n",
    "    #                                                       batch_size=batch_size,\n",
    "    #                                                       class_mode='multi_output'),\n",
    "    #                     validation_data=train_datagen.flow_from_dataframe(\n",
    "    #                         dataframe=verif,\n",
    "    #                         directory=DIR_TRAIN,\n",
    "    #                         x_col=\"file_name\",\n",
    "    #                         y_col=[\"family\", \"genus\", \"category_id\"],\n",
    "    #                         target_size=(img_shape, img_shape),\n",
    "    #                         batch_size=batch_size,\n",
    "    #                         class_mode='multi_output'),\n",
    "    #                     epochs=epochs,\n",
    "    #                     steps_per_epoch=len(train)//batch_size,\n",
    "    #                     validation_steps=len(verif)//batch_size,\n",
    "    #                     verbose=1,\n",
    "    #                     workers=8,\n",
    "    #                     use_multiprocessing=False)\n",
    "\n",
    "    # #Reshuffle the inputs\n",
    "    # train, verif = tts(m, test_size=0.2, shuffle=True, random_state=17)\n",
    "    # train = train[:400000]\n",
    "    # verif = verif[:100000]\n",
    "\n",
    "    # #Make the category_id layer Trainable\n",
    "    # for layers in model.layers:\n",
    "    #     if layers.name == 'category_id':\n",
    "    #         layers.trainable = True\n",
    "\n",
    "    # #Train them all for 2 epochs\n",
    "    # model.fit_generator(train_datagen.flow_from_dataframe(dataframe=train,\n",
    "    #                                                       directory=DIR_TRAIN,\n",
    "    #                                                       x_col=\"file_name\",\n",
    "    #                                                       y_col=[\"family\", \"genus\", \"category_id\"],\n",
    "    #                                                       target_size=(img_shape, img_shape),\n",
    "    #                                                       batch_size=batch_size,\n",
    "    #                                                       class_mode='multi_output'),\n",
    "    #                     validation_data=train_datagen.flow_from_dataframe(\n",
    "    #                         dataframe=verif,\n",
    "    #                         directory=DIR_TRAIN,\n",
    "    #                         x_col=\"file_name\",\n",
    "    #                         y_col=[\"family\", \"genus\", \"category_id\"],\n",
    "    #                         target_size=(img_shape, img_shape),\n",
    "    #                         batch_size=batch_size,\n",
    "    #                         class_mode='multi_output'),\n",
    "    #                     epochs=epochs,\n",
    "    #                     steps_per_epoch=len(train)//batch_size,\n",
    "    #                     validation_steps=len(verif)//batch_size,\n",
    "    #                     verbose=1,\n",
    "    #                     workers=8,\n",
    "    #                     use_multiprocessing=False)"
   ]
  },
  {
   "cell_type": "code",
   "execution_count": 22,
   "metadata": {},
   "outputs": [],
   "source": [
    "model.save(name_of_model + '_fg_model.h5')"
   ]
  },
  {
   "cell_type": "markdown",
   "metadata": {},
   "source": [
    "### ======================================== PREDICT ======================================= ###"
   ]
  },
  {
   "cell_type": "code",
   "execution_count": 23,
   "metadata": {},
   "outputs": [
    {
     "name": "stdout",
     "output_type": "stream",
     "text": [
      "Found 138292 validated image filenames.\n",
      "217/217 [==============================] - 2544s 12s/step\n"
     ]
    }
   ],
   "source": [
    "with tf.device(\"/cpu:0\"):\n",
    "    batch_size = 640\n",
    "    train_model = tf.keras.models.load_model(name_of_model+'_fg_model.h5', custom_objects={\"xavier\":xavier})\n",
    "\n",
    "    test_datagen = ImageDataGenerator(featurewise_center=False,\n",
    "                                      featurewise_std_normalization=False)\n",
    "\n",
    "    generator = test_datagen.flow_from_dataframe(\n",
    "            dataframe = df_images,#.iloc[:50000], #Limiting the test to the first 50,000 items\n",
    "            directory = DIR_TEST,\n",
    "            x_col = 'file_name',\n",
    "            target_size=(img_shape, img_shape),\n",
    "            batch_size=batch_size,\n",
    "            class_mode=None,  # only data, no labels\n",
    "            shuffle=False)\n",
    "\n",
    "    family = train_model.predict_generator(generator, verbose=1) #category before"
   ]
  },
  {
   "cell_type": "markdown",
   "metadata": {},
   "source": [
    "### ====================================== SUBMISSION ====================================== ###"
   ]
  },
  {
   "cell_type": "code",
   "execution_count": 24,
   "metadata": {},
   "outputs": [],
   "source": [
    "# get list of category for each family"
   ]
  },
  {
   "cell_type": "code",
   "execution_count": 25,
   "metadata": {},
   "outputs": [
    {
     "name": "stdout",
     "output_type": "stream",
     "text": [
      "(138292, 310)\n"
     ]
    },
    {
     "data": {
      "text/html": [
       "<div>\n",
       "<style scoped>\n",
       "    .dataframe tbody tr th:only-of-type {\n",
       "        vertical-align: middle;\n",
       "    }\n",
       "\n",
       "    .dataframe tbody tr th {\n",
       "        vertical-align: top;\n",
       "    }\n",
       "\n",
       "    .dataframe thead th {\n",
       "        text-align: right;\n",
       "    }\n",
       "</style>\n",
       "<table border=\"1\" class=\"dataframe\">\n",
       "  <thead>\n",
       "    <tr style=\"text-align: right;\">\n",
       "      <th></th>\n",
       "      <th>Id</th>\n",
       "      <th>Predicted</th>\n",
       "    </tr>\n",
       "  </thead>\n",
       "  <tbody>\n",
       "    <tr>\n",
       "      <th>0</th>\n",
       "      <td>104891</td>\n",
       "      <td>99</td>\n",
       "    </tr>\n",
       "    <tr>\n",
       "      <th>1</th>\n",
       "      <td>18029</td>\n",
       "      <td>1</td>\n",
       "    </tr>\n",
       "    <tr>\n",
       "      <th>2</th>\n",
       "      <td>35151</td>\n",
       "      <td>26</td>\n",
       "    </tr>\n",
       "    <tr>\n",
       "      <th>3</th>\n",
       "      <td>124144</td>\n",
       "      <td>0</td>\n",
       "    </tr>\n",
       "    <tr>\n",
       "      <th>4</th>\n",
       "      <td>24649</td>\n",
       "      <td>9</td>\n",
       "    </tr>\n",
       "    <tr>\n",
       "      <th>...</th>\n",
       "      <td>...</td>\n",
       "      <td>...</td>\n",
       "    </tr>\n",
       "    <tr>\n",
       "      <th>138287</th>\n",
       "      <td>32738</td>\n",
       "      <td>79</td>\n",
       "    </tr>\n",
       "    <tr>\n",
       "      <th>138288</th>\n",
       "      <td>16804</td>\n",
       "      <td>10</td>\n",
       "    </tr>\n",
       "    <tr>\n",
       "      <th>138289</th>\n",
       "      <td>113662</td>\n",
       "      <td>91</td>\n",
       "    </tr>\n",
       "    <tr>\n",
       "      <th>138290</th>\n",
       "      <td>86100</td>\n",
       "      <td>96</td>\n",
       "    </tr>\n",
       "    <tr>\n",
       "      <th>138291</th>\n",
       "      <td>28731</td>\n",
       "      <td>12</td>\n",
       "    </tr>\n",
       "  </tbody>\n",
       "</table>\n",
       "<p>138292 rows × 2 columns</p>\n",
       "</div>"
      ],
      "text/plain": [
       "            Id  Predicted\n",
       "0       104891         99\n",
       "1        18029          1\n",
       "2        35151         26\n",
       "3       124144          0\n",
       "4        24649          9\n",
       "...        ...        ...\n",
       "138287   32738         79\n",
       "138288   16804         10\n",
       "138289  113662         91\n",
       "138290   86100         96\n",
       "138291   28731         12\n",
       "\n",
       "[138292 rows x 2 columns]"
      ]
     },
     "metadata": {},
     "output_type": "display_data"
    },
    {
     "name": "stdout",
     "output_type": "stream",
     "text": [
      "nombres de classes différentes prédites : 18911\n"
     ]
    }
   ],
   "source": [
    "sub = pd.DataFrame()\n",
    "sub['Id'] = df_images.id\n",
    "sub['Id'] = sub['Id'].astype('int32')\n",
    "\n",
    "print(family.shape)\n",
    "sub['Predicted'] = np.concatenate([np.argmax(family, axis=1), 23718*np.ones((len(df_images.id)-len(family)))], axis=0)\n",
    "sub['Predicted'] = sub['Predicted'].astype('int32')\n",
    "display(sub)\n",
    "\n",
    "\n",
    "# for sub in sub['Predicted']:\n",
    "#     print(sub)\n",
    "\n",
    "\n",
    "#now that we have family, we are gonna generate a random category for each row (according to family)\n",
    "def random_catego(x):\n",
    "    x = random.choice(family_to_category[x])\n",
    "    return x\n",
    "\n",
    "sub['Predicted'] = sub['Predicted'].apply(random_catego)\n",
    "\n",
    "# old basic random \n",
    "# sub['Predicted'] = list(map(int, np.random.randint(1, 32094, (df_images.shape[0]))))\n",
    "\n",
    "sub.to_csv(name_of_model+'_category_submission.csv', index=False)\n",
    "print(\"nombres de classes différentes prédites :\", sub['Predicted'].nunique())"
   ]
  },
  {
   "cell_type": "code",
   "execution_count": 26,
   "metadata": {
    "scrolled": true
   },
   "outputs": [],
   "source": [
    "# sub = pd.DataFrame()\n",
    "# sub['Id'] = df_images.id\n",
    "# sub['Id'] = sub['Id'].astype('int32')\n",
    "\n",
    "# sub['Predicted'] = np.concatenate([np.argmax(category, axis=1), 23718*np.ones((len(df_images.id)-len(category)))], axis=0)\n",
    "# sub['Predicted'] = sub['Predicted'].astype('int32')\n",
    "\n",
    "# display(sub)\n",
    "# sub.to_csv(name_of_model+'_category_submission.csv', index=False)\n",
    "# print(\"nombres de classes différentes prédites :\", sub['Predicted'].nunique())\n",
    "\n",
    "# # #random predict\n",
    "# # with tf.device(\"/cpu:0\"):\n",
    "# #     sub = pd.DataFrame()\n",
    "# #     sub['Id'] = df_images.id\n",
    "# #     sub['Predicted'] = list(map(int, np.random.randint(1, 32094, (df_images.shape[0]))))\n",
    "\n",
    "# #     sub.to_csv('random_submission.csv', index=False)\n",
    "# #     print(\"nombres de classes différentes prédites :\", sub['Predicted'].nunique())"
   ]
  },
  {
   "cell_type": "code",
   "execution_count": 27,
   "metadata": {},
   "outputs": [],
   "source": [
    "# sub['Predicted'] = np.concatenate([np.argmax(family, axis=1), np.zeros((len(df_images.id)-len(family)))], axis=0)\n",
    "# sub['Predicted'] = sub['Predicted'].astype('int32')\n",
    "# display(sub)\n",
    "# sub.to_csv(name_of_model+'cnn_5_family_submission.csv', index=False)"
   ]
  },
  {
   "cell_type": "code",
   "execution_count": 28,
   "metadata": {},
   "outputs": [],
   "source": [
    "# sub['Predicted'] = np.concatenate([np.argmax(genus, axis=1), np.zeros((len(df_images.id)-len(genus)))], axis=0)\n",
    "# sub['Predicted'] = sub['Predicted'].astype('int32')\n",
    "# display(sub)\n",
    "# sub.to_csv(name_of_model+'_genus_submission.csv', index=False)"
   ]
  },
  {
   "cell_type": "code",
   "execution_count": 29,
   "metadata": {},
   "outputs": [
    {
     "name": "stdout",
     "output_type": "stream",
     "text": [
      "Total time spent: 7 hours, 12 minutes, and 36 seconds\n"
     ]
    }
   ],
   "source": [
    "end_time = time.time()\n",
    "total = end_time - start_time\n",
    "h = total//3600\n",
    "m = (total%3600)//60\n",
    "s = total%60\n",
    "print(\"Total time spent: %i hours, %i minutes, and %i seconds\" %(h, m, s))"
   ]
  },
  {
   "cell_type": "code",
   "execution_count": null,
   "metadata": {},
   "outputs": [],
   "source": []
  }
 ],
 "metadata": {
  "kernelspec": {
   "display_name": "Python 3",
   "language": "python",
   "name": "python3"
  },
  "language_info": {
   "codemirror_mode": {
    "name": "ipython",
    "version": 3
   },
   "file_extension": ".py",
   "mimetype": "text/x-python",
   "name": "python",
   "nbconvert_exporter": "python",
   "pygments_lexer": "ipython3",
   "version": "3.6.9"
  }
 },
 "nbformat": 4,
 "nbformat_minor": 2
}
