{
 "cells": [
  {
   "cell_type": "code",
   "execution_count": null,
   "metadata": {},
   "outputs": [],
   "source": [
    "import os\n",
    "import random\n",
    "import tensorflow as tf\n",
    "from tensorflow.keras.datasets import cifar10\n",
    "from tensorflow.keras.preprocessing.image import ImageDataGenerator\n",
    "from tensorflow.keras.models import Sequential\n",
    "from tensorflow.keras.layers import Dense, Dropout, Activation, Flatten\n",
    "from tensorflow.keras.optimizers import SGD\n",
    "from tensorflow.keras.utils import plot_model\n",
    "import pandas as pd\n",
    "import tqdm\n",
    "import numpy as np\n",
    "import json\n",
    "import matplotlib.pyplot as plt\n",
    "import matplotlib.image as mpimg\n",
    "import warnings\n",
    "from PIL import Image\n",
    "from plotly import tools\n",
    "%matplotlib inline \n",
    "import plotly.graph_objs as go\n",
    "import plotly.figure_factory as ff\n",
    "import plotly\n",
    "import datetime\n",
    "import timeit\n",
    "import time\n",
    "from plotly import tools\n",
    "from plotly.offline import download_plotlyjs, init_notebook_mode, plot, iplot\n",
    "warnings.filterwarnings('ignore')\n",
    "from progressbar import ProgressBar\n",
    "from tensorflow.keras.preprocessing.image import ImageDataGenerator\n",
    "%pylab inline"
   ]
  },
  {
   "cell_type": "code",
   "execution_count": null,
   "metadata": {},
   "outputs": [],
   "source": [
    "DIR_TEST = 'D:/Cours/4_IABD/Data/herbarium-2020_data/nybg2020/test/'\n",
    "DIR_TRAIN = 'D:/Cours/4_IABD/Data/herbarium-2020_data/nybg2020/train/'\n",
    "META_DATA_TRAIN = DIR_TRAIN+'metadata.json'\n",
    "META_DATA_TEST = DIR_TRAIN+'metadata.json'"
   ]
  },
  {
   "cell_type": "code",
   "execution_count": null,
   "metadata": {},
   "outputs": [],
   "source": [
    "def get_run_time():\n",
    "    \n",
    "    return timeit.default_timer()\n",
    "\n",
    "def convert_run_time(start, stop):\n",
    "    time_exec = stop - start\n",
    "    return str(datetime.timedelta(seconds=time_exec))"
   ]
  },
  {
   "cell_type": "code",
   "execution_count": null,
   "metadata": {},
   "outputs": [],
   "source": [
    "with open(META_DATA_TRAIN, 'r') as json_file:\n",
    "    data = json.load(json_file)\n",
    "    for key in data:\n",
    "        print(\"-\",key, len(data[key]))"
   ]
  },
  {
   "cell_type": "code",
   "execution_count": null,
   "metadata": {},
   "outputs": [],
   "source": [
    "df_images = pd.DataFrame(data['images'])\n",
    "df_categories = pd.DataFrame(data['categories'])\n",
    "df_annotations = pd.DataFrame(data['annotations'])"
   ]
  },
  {
   "cell_type": "code",
   "execution_count": null,
   "metadata": {},
   "outputs": [],
   "source": [
    "assert len(df_annotations) == len(df_images)\n",
    "df_images_annotations = pd.merge(df_images, df_annotations, left_on='id', right_on='image_id', how='right').drop('image_id', axis=1)\n",
    "df_images_annotations = df_images_annotations.sort_values(['category_id'])"
   ]
  },
  {
   "cell_type": "code",
   "execution_count": null,
   "metadata": {},
   "outputs": [],
   "source": [
    "df_images_annotations.head(4)"
   ]
  },
  {
   "cell_type": "code",
   "execution_count": null,
   "metadata": {},
   "outputs": [],
   "source": [
    "def plot_samples(df, size=(22,22), nb_samples=20, cmap=False):\n",
    "    \n",
    "    plt.figure(figsize=size)\n",
    "    for i in range(nb_samples):\n",
    "        random_sample = df.iloc[np.random.random_integers(i,len(df) - 1)]\n",
    "        \n",
    "        if cmap:\n",
    "            random_sample_img = Image.open(DIR_TRAIN+random_sample['file_name']).convert(\"L\")\n",
    "        else:\n",
    "            random_sample_img = mpimg.imread(DIR_TRAIN+random_sample['file_name'])\n",
    "            \n",
    "        arr = np.asarray(random_sample_img)\n",
    "        plt.subplot(5,5,i+1)\n",
    "        plt.xticks([])\n",
    "        plt.yticks([])\n",
    "        plt.grid(False)\n",
    "        \n",
    "        if cmap:\n",
    "            plt.imshow(arr, cmap='gray', vmin=0, vmax=255)\n",
    "        else:\n",
    "            plt.imshow(random_sample_img, cmap=plt.cm.binary)\n",
    "            \n",
    "        plt.xlabel(\"CTG_ID : \"+str(random_sample['category_id']))\n",
    "    plt.show()\n",
    "    \n",
    "plot_samples(df_images_annotations, size=(24,24), nb_samples=20, cmap=\"gray\")"
   ]
  },
  {
   "cell_type": "code",
   "execution_count": null,
   "metadata": {},
   "outputs": [],
   "source": [
    "from sklearn.model_selection import train_test_split\n",
    "\n",
    "df_train, df_test = train_test_split(df_images_annotations, test_size=0.2, random_state=0)\n",
    "print(len(df_train.category_id.unique()), len(df_test.category_id.unique()))"
   ]
  },
  {
   "cell_type": "code",
   "execution_count": null,
   "metadata": {},
   "outputs": [],
   "source": [
    "def read_image(sample_path:str, resize_to=False) -> np.ndarray:\n",
    " \n",
    "        \n",
    "    im = Image.open(sample_path)\n",
    "    if resize_to:\n",
    "        im = im.resize(resize_to)\n",
    "    im = np.array(im) / 255.0\n",
    "    im = im.astype(\"float32\")\n",
    "\n",
    "    return im\n"
   ]
  },
  {
   "cell_type": "code",
   "execution_count": null,
   "metadata": {},
   "outputs": [],
   "source": [
    "def reshape_input(img: np.ndarray) -> np.ndarray:\n",
    "    \n",
    "    img.reshape(img.shape[0] * img.shape[1] * img.shape[2]) #\n",
    "    return img"
   ]
  },
  {
   "cell_type": "code",
   "execution_count": null,
   "metadata": {},
   "outputs": [],
   "source": [
    "def images_datagen(df: pd.DataFrame, categorys:int,  DIR=False, batch_size=64, resize_to=False) -> (np.ndarray, np.ndarray):\n",
    "    \n",
    "    assert DIR != False\n",
    "    array_imgs = []\n",
    "    array_labels = []\n",
    "    \n",
    "    while True:\n",
    "        for i in range(batch_size):\n",
    "            index_random_sample = np.random.random_integers(i,len(df) - 1) # get random row\n",
    "            array_imgs.append(reshape_input(read_image(DIR+df.iloc[index_random_sample]['file_name'], resize_to=resize_to)))\n",
    "            array_labels.append(df.iloc[index_random_sample]['category_id'])\n",
    "        \n",
    "        yield np.array(array_imgs), tf.keras.utils.to_categorical(array_labels, num_classes=categorys)\n",
    "        "
   ]
  },
  {
   "cell_type": "code",
   "execution_count": null,
   "metadata": {},
   "outputs": [],
   "source": [
    "def hyper_params(df):\n",
    "        \n",
    "    modelParams = {\"Layers\":[\n",
    "#                     {\"neurons\":1 , \"activation\":\"tanh\", \"dropOut\":False},\n",
    "                    {\"neurons\":len(df.category_id.unique()), \"activation\":\"softmax\", \"dropOut\":False}\n",
    "                    ],\n",
    "                   \"loss\":\"categorical_crossentropy\",\n",
    "                   \"optimizer\":\"SGD(lr=0.001)\",\n",
    "                   \"metrics\":\"accuracy\",\n",
    "                   \"learningRate\":.001,\n",
    "                   \"epochs\":1,\n",
    "                   \"batchSize\":2000,\n",
    "                   \"testName\":\"Simple Linear Model\"\n",
    "                 }\n",
    "    return modelParams"
   ]
  },
  {
   "cell_type": "code",
   "execution_count": null,
   "metadata": {},
   "outputs": [],
   "source": [
    "def create_model(params):\n",
    "    \n",
    "    model = Sequential()\n",
    "    model.add(Flatten(input_shape=(64,64,3)))\n",
    "    for layers in params['Layers']:\n",
    "        if layers['dropOut'] == False:\n",
    "            model.add(Dense(layers['neurons'], activation=layers['activation']))\n",
    "        else:\n",
    "            model.add(Dense(layers['neurons'], activation=layers['activation']))\n",
    "            model.add(Dropout(layers['dropOut']))\n",
    "    \n",
    "    opt = tf.keras.optimizers.SGD(learning_rate=0.1)\n",
    "    model.compile(loss=params['loss'],\n",
    "                   optimizer=opt,\n",
    "                   metrics=['accuracy'])\n",
    "    \n",
    "    model.summary()\n",
    "    return model"
   ]
  },
  {
   "cell_type": "code",
   "execution_count": null,
   "metadata": {},
   "outputs": [],
   "source": [
    "def fit_model_gen(model, params, nb_classes,  DIR_NAME, df_train, df_test):\n",
    "    \n",
    "#     start_time = time.time()\n",
    "#     tensorboard = TensorBoard(log_dir='D:\\logsProject\\{}'.format(logName()))\n",
    "    ################################ CALCULATE RUNTIME - START ###############################\n",
    "    history = model.fit(images_datagen(df_train, nb_classes, DIR=DIR_NAME, resize_to=(64,64)),\n",
    "                       epochs=params['epochs'],\n",
    "                       steps_per_epoch=params['batchSize'], verbose=1, validation_data=images_datagen(df_test, nb_classes, DIR=DIR_NAME, resize_to=(64,64)), validation_steps=40)\n",
    "    ################################ CALCULATE RUNTIME - END ###############################\n",
    "\n",
    "    return model, history"
   ]
  },
  {
   "cell_type": "code",
   "execution_count": null,
   "metadata": {},
   "outputs": [],
   "source": [
    "params = hyper_params(df_images_annotations)\n",
    "model = create_model(params)"
   ]
  },
  {
   "cell_type": "code",
   "execution_count": null,
   "metadata": {},
   "outputs": [],
   "source": [
    "start = get_run_time()\n",
    "model, history = fit_model_gen(model, params, len(df_images_annotations.category_id.unique()), DIR_TRAIN, df_train, df_test)\n",
    "stop = get_run_time()\n",
    "print(convert_run_time(start, stop))"
   ]
  },
  {
   "cell_type": "code",
   "execution_count": null,
   "metadata": {},
   "outputs": [],
   "source": []
  }
 ],
 "metadata": {
  "kernelspec": {
   "display_name": "Python 3",
   "language": "python",
   "name": "python3"
  },
  "language_info": {
   "codemirror_mode": {
    "name": "ipython",
    "version": 3
   },
   "file_extension": ".py",
   "mimetype": "text/x-python",
   "name": "python",
   "nbconvert_exporter": "python",
   "pygments_lexer": "ipython3",
   "version": "3.6.9"
  }
 },
 "nbformat": 4,
 "nbformat_minor": 4
}
